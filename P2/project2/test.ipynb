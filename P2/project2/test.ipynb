{
 "cells": [
  {
   "cell_type": "code",
   "execution_count": 9,
   "metadata": {},
   "outputs": [],
   "source": [
    "import os\n",
    "import numpy as np\n",
    "import pandas as pd\n",
    "import torch\n",
    "from matplotlib import pyplot as plt\n",
    "from scipy.misc import imread, imresize\n",
    "from torch.utils.data import Dataset, DataLoader\n",
    "from utils import config"
   ]
  },
  {
   "cell_type": "code",
   "execution_count": 17,
   "metadata": {},
   "outputs": [],
   "source": [
    "def resize(X):\n",
    "    \"\"\"\n",
    "    Resizes the data partition X to the size specified in the config file.\n",
    "    Uses bicubic interpolation for resizing.\n",
    "\n",
    "    Returns:\n",
    "        the resized images as a numpy array.\n",
    "    \"\"\"\n",
    "    # TODO: Complete this function\n",
    "    image_dim = config('image_dim')\n",
    "    resized = imresize(X, (2, 2, 3), 'bicubic')\n",
    "    # \n",
    "\n",
    "    return resized"
   ]
  },
  {
   "cell_type": "code",
   "execution_count": 18,
   "metadata": {},
   "outputs": [
    {
     "data": {
      "text/plain": [
       "array([[[0.42541674, 0.12041374, 0.44019702],\n",
       "        [0.49041307, 0.28656772, 0.67137096],\n",
       "        [0.01767678, 0.55269416, 0.29442429],\n",
       "        [0.24306949, 0.30161574, 0.4512044 ],\n",
       "        [0.52707996, 0.79808894, 0.36321   ]],\n",
       "\n",
       "       [[0.06850087, 0.11870475, 0.09778801],\n",
       "        [0.0204611 , 0.93853565, 0.10709976],\n",
       "        [0.90621386, 0.3069947 , 0.78013601],\n",
       "        [0.75477104, 0.82064949, 0.88443266],\n",
       "        [0.45355119, 0.35845151, 0.46606287]],\n",
       "\n",
       "       [[0.98573731, 0.59165825, 0.0728358 ],\n",
       "        [0.32719057, 0.24065793, 0.9931465 ],\n",
       "        [0.13133269, 0.27443783, 0.57532599],\n",
       "        [0.04206506, 0.66079174, 0.45612498],\n",
       "        [0.81856147, 0.27485494, 0.10869235]],\n",
       "\n",
       "       [[0.71242795, 0.55448606, 0.52952268],\n",
       "        [0.19307555, 0.97177512, 0.08112116],\n",
       "        [0.61229321, 0.67997373, 0.18550798],\n",
       "        [0.23424361, 0.50434794, 0.09592488],\n",
       "        [0.51213763, 0.11105092, 0.3382647 ]],\n",
       "\n",
       "       [[0.02282981, 0.80109332, 0.40603887],\n",
       "        [0.24522731, 0.44291178, 0.44266382],\n",
       "        [0.17244501, 0.64087511, 0.61454456],\n",
       "        [0.48296627, 0.07204287, 0.74115798],\n",
       "        [0.60598713, 0.01225372, 0.72145116]]])"
      ]
     },
     "execution_count": 18,
     "metadata": {},
     "output_type": "execute_result"
    }
   ],
   "source": [
    "X = np.random.random_sample((5,5,3))\n",
    "X"
   ]
  },
  {
   "cell_type": "code",
   "execution_count": 19,
   "metadata": {},
   "outputs": [
    {
     "name": "stderr",
     "output_type": "stream",
     "text": [
      "/anaconda3/lib/python3.7/site-packages/ipykernel_launcher.py:11: DeprecationWarning: `imresize` is deprecated!\n",
      "`imresize` is deprecated in SciPy 1.0.0, and will be removed in 1.2.0.\n",
      "Use ``skimage.transform.resize`` instead.\n",
      "  # This is added back by InteractiveShellApp.init_path()\n"
     ]
    },
    {
     "data": {
      "text/plain": [
       "array([[[ 88, 103, 107],\n",
       "        [116, 134, 129]],\n",
       "\n",
       "       [[ 90, 161, 101],\n",
       "        [104,  85, 107]]], dtype=uint8)"
      ]
     },
     "execution_count": 19,
     "metadata": {},
     "output_type": "execute_result"
    }
   ],
   "source": [
    "resize(X)"
   ]
  },
  {
   "cell_type": "code",
   "execution_count": 20,
   "metadata": {},
   "outputs": [
    {
     "data": {
      "text/plain": [
       "array([[[0.42541674, 0.12041374, 0.44019702],\n",
       "        [0.49041307, 0.28656772, 0.67137096],\n",
       "        [0.01767678, 0.55269416, 0.29442429],\n",
       "        [0.24306949, 0.30161574, 0.4512044 ],\n",
       "        [0.52707996, 0.79808894, 0.36321   ]],\n",
       "\n",
       "       [[0.06850087, 0.11870475, 0.09778801],\n",
       "        [0.0204611 , 0.93853565, 0.10709976],\n",
       "        [0.90621386, 0.3069947 , 0.78013601],\n",
       "        [0.75477104, 0.82064949, 0.88443266],\n",
       "        [0.45355119, 0.35845151, 0.46606287]],\n",
       "\n",
       "       [[0.98573731, 0.59165825, 0.0728358 ],\n",
       "        [0.32719057, 0.24065793, 0.9931465 ],\n",
       "        [0.13133269, 0.27443783, 0.57532599],\n",
       "        [0.04206506, 0.66079174, 0.45612498],\n",
       "        [0.81856147, 0.27485494, 0.10869235]],\n",
       "\n",
       "       [[0.71242795, 0.55448606, 0.52952268],\n",
       "        [0.19307555, 0.97177512, 0.08112116],\n",
       "        [0.61229321, 0.67997373, 0.18550798],\n",
       "        [0.23424361, 0.50434794, 0.09592488],\n",
       "        [0.51213763, 0.11105092, 0.3382647 ]],\n",
       "\n",
       "       [[0.02282981, 0.80109332, 0.40603887],\n",
       "        [0.24522731, 0.44291178, 0.44266382],\n",
       "        [0.17244501, 0.64087511, 0.61454456],\n",
       "        [0.48296627, 0.07204287, 0.74115798],\n",
       "        [0.60598713, 0.01225372, 0.72145116]]])"
      ]
     },
     "execution_count": 20,
     "metadata": {},
     "output_type": "execute_result"
    }
   ],
   "source": [
    "X"
   ]
  },
  {
   "cell_type": "code",
   "execution_count": 21,
   "metadata": {},
   "outputs": [
    {
     "data": {
      "text/plain": [
       "array([[[4.25416736, 1.20413742, 4.40197015],\n",
       "        [4.90413071, 2.86567717, 6.71370961],\n",
       "        [0.17676784, 5.52694163, 2.94424289],\n",
       "        [2.43069485, 3.01615744, 4.51204395],\n",
       "        [5.27079956, 7.98088944, 3.63209996]],\n",
       "\n",
       "       [[0.68500865, 1.18704751, 0.97788011],\n",
       "        [0.20461102, 9.38535645, 1.07099764],\n",
       "        [9.06213862, 3.069947  , 7.80136008],\n",
       "        [7.54771039, 8.20649487, 8.84432664],\n",
       "        [4.53551192, 3.5845151 , 4.66062867]],\n",
       "\n",
       "       [[9.85737313, 5.91658249, 0.72835797],\n",
       "        [3.2719057 , 2.40657931, 9.93146498],\n",
       "        [1.31332693, 2.74437831, 5.7532599 ],\n",
       "        [0.42065059, 6.60791742, 4.56124984],\n",
       "        [8.18561465, 2.74854942, 1.08692349]],\n",
       "\n",
       "       [[7.12427954, 5.54486061, 5.29522675],\n",
       "        [1.93075547, 9.71775116, 0.81121157],\n",
       "        [6.12293209, 6.79973735, 1.85507977],\n",
       "        [2.34243605, 5.04347944, 0.9592488 ],\n",
       "        [5.12137631, 1.11050922, 3.38264702]],\n",
       "\n",
       "       [[0.22829813, 8.01093315, 4.06038874],\n",
       "        [2.45227307, 4.42911779, 4.42663823],\n",
       "        [1.72445015, 6.40875107, 6.14544558],\n",
       "        [4.82966272, 0.72042872, 7.41157981],\n",
       "        [6.05987127, 0.12253719, 7.21451164]]])"
      ]
     },
     "execution_count": 21,
     "metadata": {},
     "output_type": "execute_result"
    }
   ],
   "source": [
    "X * 10"
   ]
  },
  {
   "cell_type": "code",
   "execution_count": 1,
   "metadata": {},
   "outputs": [
    {
     "data": {
      "text/plain": [
       "0.0001"
      ]
     },
     "execution_count": 1,
     "metadata": {},
     "output_type": "execute_result"
    }
   ],
   "source": [
    "1e-4"
   ]
  },
  {
   "cell_type": "code",
   "execution_count": null,
   "metadata": {},
   "outputs": [],
   "source": []
  }
 ],
 "metadata": {
  "kernelspec": {
   "display_name": "Python 3",
   "language": "python",
   "name": "python3"
  },
  "language_info": {
   "codemirror_mode": {
    "name": "ipython",
    "version": 3
   },
   "file_extension": ".py",
   "mimetype": "text/x-python",
   "name": "python",
   "nbconvert_exporter": "python",
   "pygments_lexer": "ipython3",
   "version": "3.7.1"
  }
 },
 "nbformat": 4,
 "nbformat_minor": 2
}
